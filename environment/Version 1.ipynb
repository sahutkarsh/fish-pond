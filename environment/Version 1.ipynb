{
 "cells": [
  {
   "cell_type": "code",
   "execution_count": 1,
   "metadata": {
    "collapsed": true
   },
   "outputs": [],
   "source": [
    "import numpy as np"
   ]
  },
  {
   "cell_type": "code",
   "execution_count": 2,
   "metadata": {
    "collapsed": true
   },
   "outputs": [],
   "source": [
    "import gym\n",
    "from gym import spaces, logger"
   ]
  },
  {
   "cell_type": "code",
   "execution_count": 3,
   "metadata": {
    "collapsed": true
   },
   "outputs": [],
   "source": [
    "logger.set_level(40)"
   ]
  },
  {
   "cell_type": "markdown",
   "metadata": {},
   "source": [
    "Agent Actions: <br>\n",
    "\n",
    "0. Eat Fish\n",
    "1. Move Up\n",
    "2. Move Down\n",
    "3. Move Left\n",
    "4. Move Right"
   ]
  },
  {
   "cell_type": "markdown",
   "metadata": {},
   "source": [
    "Environment State:\n",
    "\n",
    "0. Grid (0-Ground, 1-Water, 2-Fishing Area, 3-Agents)\n",
    "1. Fish Population\n",
    "2. Agent Health"
   ]
  },
  {
   "cell_type": "code",
   "execution_count": 129,
   "metadata": {
    "collapsed": false
   },
   "outputs": [],
   "source": [
    "class FishPondEnv(gym.Env):\n",
    "    def __init__(self, params):\n",
    "        super(FishPondEnv, self).__init__()\n",
    "        self.params = params\n",
    "        self.num_agents = params['num_agents']\n",
    "        self.grid_size = params['grid_size']\n",
    "        self.pond_size = np.int(self.grid_size * self.params['pond_size_ratio'])\n",
    "        self.grid_area = self.grid_size * self.grid_size\n",
    "        self.pond_area = self.grid_size * self.pond_size\n",
    "        self.action_space = spaces.Discrete(5)\n",
    "        state_space_low = np.array(self.grid_area * [0] + [0] + self.num_agents * [0])\n",
    "        state_space_high = np.array(self.grid_area * [2] + [params['fish_count_max']] + self.num_agents * [params['health_max']])\n",
    "        self.state_space = spaces.Box(state_space_low, state_space_high, dtype=np.float32) #Check dtype here\n",
    "        self.state = None\n",
    "        self.steps_beyond_done = None\n",
    "        self.loc_agents = None\n",
    "    \n",
    "    def get_initial_state(self): #Missing Agent Issue Fixed\n",
    "        grid = np.array(self.pond_area * [1] + (self.grid_area - self.pond_area) * [0])\n",
    "        zone_correction = np.int((self.params['fishing_zone_size'] % 2) != (self.grid_size % 2))\n",
    "        zone_size = self.params['fishing_zone_size'] + zone_correction\n",
    "        zone_index = np.int((self.pond_size - 1) * self.grid_size + (self.grid_size - zone_size) / 2)\n",
    "        grid[range(zone_index, zone_index + zone_size)] = 2\n",
    "        agent_location = np.random.choice(range(self.pond_area, self.grid_area), self.num_agents)\n",
    "        self.loc_agents = agent_location\n",
    "        grid[agent_location] = 3\n",
    "        fish_count = [self.params['fish_count_initial']]\n",
    "        agent_health = self.num_agents * [self.params['health_max']]\n",
    "        state = np.append(grid, [fish_count + agent_health])\n",
    "        return state\n",
    "        \n",
    "    def reset(self):\n",
    "        self.state = self.get_initial_state()\n",
    "        self.steps_beyond_done = None\n",
    "        return self.state\n",
    "    \n",
    "    def to_grid_index(self, index, inverse=False):\n",
    "        if not inverse:\n",
    "            row = np.int(index / self.grid_size)\n",
    "            col = index % self.grid_size\n",
    "            return [row, col]\n",
    "        return (index[0] * self.grid_size + index[1])\n",
    "    \n",
    "    def step_agent(self, agent_index, action): # Agent Collision Issue\n",
    "        agent_health = self.state[(self.grid_area + 1 + agent_index)]\n",
    "        dead = True if (agent_health == 0) else False\n",
    "        if(dead):\n",
    "            return 0\n",
    "        reward = self.params['reward_per_step']\n",
    "        grid = self.state[:self.grid_area].reshape(self.grid_size, self.grid_size)\n",
    "        fish_count = self.state[self.grid_area]\n",
    "        loc_vt, loc_hz = self.to_grid_index(self.loc_agents[agent_index]) #Update self.loc_agents\n",
    "        grid[loc_vt, loc_hz] = 0\n",
    "        \n",
    "        if (action == 0):\n",
    "            if (grid[loc_vt-1][loc_hz] == 2 and fish_count >= 1):\n",
    "                fish_count = np.clip(fish_count - 1, 0, self.params['fish_count_max'])\n",
    "                agent_health = np.clip(agent_health + self.params['nutrition_per_fish'], 0, self.params['health_max'])\n",
    "        \n",
    "        elif (action == 1):\n",
    "            loc_vt = np.clip(loc_vt - 1, self.pond_size, self.grid_size - 1)\n",
    "        elif (action == 2):\n",
    "            loc_vt = np.clip(loc_vt + 1, self.pond_size, self.grid_size - 1)\n",
    "        elif (action == 3):\n",
    "            loc_hz = np.clip(loc_hz - 1, 0, self.grid_size - 1)\n",
    "        elif (action == 4):\n",
    "            loc_hz = np.clip(loc_hz + 1, 0, self.grid_size - 1)\n",
    "        else:\n",
    "            logger.warn(\"Undefined Action\")\n",
    "        \n",
    "        grid[loc_vt, loc_hz] = 3\n",
    "        self.loc_agents[agent_index] = self.to_grid_index([loc_vt, loc_hz], inverse=True)\n",
    "        agent_health = np.clip(agent_health - self.params['hunger_per_step'], 0, self.params['health_max'])\n",
    "        fish_count = np.clip(np.int(fish_count + self.params['fish_regeneration_rate'] * fish_count), 0, self.params['fish_count_max'])\n",
    "        self.state[:self.grid_area] = grid.flatten()\n",
    "        self.state[self.grid_area] = fish_count\n",
    "        self.state[(self.grid_area + 1 + agent_index)] = agent_health\n",
    "        return reward\n",
    "    \n",
    "    def step(self, actions): #Discuss about synchronization in real time before each agent takes action\n",
    "        rewards = np.array([])\n",
    "        for agent_index in range(self.num_agents):\n",
    "            reward = self.step_agent(agent_index, actions[agent_index])\n",
    "            rewards = np.append(rewards, reward)\n",
    "        return rewards"
   ]
  },
  {
   "cell_type": "code",
   "execution_count": 176,
   "metadata": {
    "collapsed": true
   },
   "outputs": [],
   "source": [
    "params = {\n",
    "    'num_agents': 2,\n",
    "    'health_max': 100,\n",
    "    'grid_size': 10,\n",
    "    'pond_size_ratio': 0.25,\n",
    "    'fishing_zone_size': 4, #Auto-Symmetry\n",
    "    'fish_count_initial': 10,\n",
    "    'fish_count_max': 50,\n",
    "    'fish_regeneration_rate': 1,\n",
    "    'hunger_per_step': -5,\n",
    "    'nutrition_per_fish': 10,\n",
    "    'reward_per_step': 1\n",
    "}"
   ]
  },
  {
   "cell_type": "code",
   "execution_count": 177,
   "metadata": {
    "collapsed": false
   },
   "outputs": [],
   "source": [
    "env = FishPondEnv(params)"
   ]
  },
  {
   "cell_type": "code",
   "execution_count": 178,
   "metadata": {
    "collapsed": false
   },
   "outputs": [
    {
     "data": {
      "text/plain": [
       "array([[1, 1, 1, 1, 1, 1, 1, 1, 1, 1],\n",
       "       [1, 1, 1, 2, 2, 2, 2, 1, 1, 1],\n",
       "       [0, 0, 0, 0, 0, 0, 0, 0, 0, 0],\n",
       "       [0, 0, 0, 0, 0, 0, 0, 0, 0, 0],\n",
       "       [0, 0, 0, 0, 0, 0, 0, 0, 0, 0],\n",
       "       [0, 0, 0, 0, 0, 0, 0, 0, 0, 0],\n",
       "       [0, 0, 0, 0, 0, 0, 0, 0, 0, 0],\n",
       "       [0, 0, 0, 0, 0, 0, 0, 0, 0, 0],\n",
       "       [0, 0, 0, 3, 0, 0, 0, 0, 0, 0],\n",
       "       [0, 0, 0, 0, 0, 0, 0, 3, 0, 0]])"
      ]
     },
     "execution_count": 178,
     "metadata": {},
     "output_type": "execute_result"
    }
   ],
   "source": [
    "grid_size = params['grid_size']\n",
    "grid_area = pow(grid_size, 2)\n",
    "grid = env.reset()[:grid_area].reshape(grid_size, grid_size)\n",
    "grid"
   ]
  },
  {
   "cell_type": "code",
   "execution_count": 179,
   "metadata": {
    "collapsed": false
   },
   "outputs": [
    {
     "data": {
      "text/plain": [
       "array([  1,   1,   1,   1,   1,   1,   1,   1,   1,   1,   1,   1,   1,\n",
       "         2,   2,   2,   2,   1,   1,   1,   0,   0,   0,   0,   0,   0,\n",
       "         0,   0,   0,   0,   0,   0,   0,   0,   0,   0,   0,   0,   0,\n",
       "         0,   0,   0,   0,   0,   0,   0,   0,   0,   0,   0,   0,   0,\n",
       "         0,   0,   0,   0,   0,   3,   0,   0,   0,   0,   0,   0,   0,\n",
       "         0,   0,   0,   0,   0,   0,   0,   0,   0,   0,   0,   0,   0,\n",
       "         0,   0,   0,   0,   3,   0,   0,   0,   0,   0,   0,   0,   0,\n",
       "         0,   0,   0,   0,   0,   0,   0,   0,   0,  10, 100, 100])"
      ]
     },
     "execution_count": 179,
     "metadata": {},
     "output_type": "execute_result"
    }
   ],
   "source": [
    "env.reset()"
   ]
  },
  {
   "cell_type": "code",
   "execution_count": 180,
   "metadata": {
    "collapsed": true
   },
   "outputs": [],
   "source": [
    "action_dict = np.array(['Eat Fish', 'Up', 'Down', 'Left', 'Right'])"
   ]
  },
  {
   "cell_type": "code",
   "execution_count": 181,
   "metadata": {
    "collapsed": false
   },
   "outputs": [
    {
     "name": "stdout",
     "output_type": "stream",
     "text": [
      "\n",
      " T = 0 \n",
      "\n",
      "[[1 1 1 1 1 1 1 1 1 1]\n",
      " [1 1 1 2 2 2 2 1 1 1]\n",
      " [0 0 0 0 0 0 0 0 0 0]\n",
      " [0 0 0 0 0 0 0 0 0 0]\n",
      " [0 0 0 0 0 0 0 0 0 0]\n",
      " [0 0 0 0 0 0 0 0 3 0]\n",
      " [0 0 0 0 0 0 0 0 0 0]\n",
      " [0 0 0 0 0 0 0 0 0 3]\n",
      " [0 0 0 0 0 0 0 0 0 0]\n",
      " [0 0 0 0 0 0 0 0 0 0]]\n",
      "\n",
      "Actions:  ['Up' 'Down']\n",
      "\n",
      " T = 1 \n",
      "\n",
      "[[1 1 1 1 1 1 1 1 1 1]\n",
      " [1 1 1 2 2 2 2 1 1 1]\n",
      " [0 0 0 0 0 0 0 0 0 0]\n",
      " [0 0 0 0 0 0 0 0 0 0]\n",
      " [0 0 0 0 0 0 0 0 3 0]\n",
      " [0 0 0 0 0 0 0 0 0 0]\n",
      " [0 0 0 0 0 0 0 0 0 0]\n",
      " [0 0 0 0 0 0 0 0 0 0]\n",
      " [0 0 0 0 0 0 0 0 0 3]\n",
      " [0 0 0 0 0 0 0 0 0 0]]\n",
      "\n",
      "Actions:  ['Left' 'Eat Fish']\n",
      "\n",
      " T = 2 \n",
      "\n",
      "[[1 1 1 1 1 1 1 1 1 1]\n",
      " [1 1 1 2 2 2 2 1 1 1]\n",
      " [0 0 0 0 0 0 0 0 0 0]\n",
      " [0 0 0 0 0 0 0 0 0 0]\n",
      " [0 0 0 0 0 0 0 3 0 0]\n",
      " [0 0 0 0 0 0 0 0 0 0]\n",
      " [0 0 0 0 0 0 0 0 0 0]\n",
      " [0 0 0 0 0 0 0 0 0 0]\n",
      " [0 0 0 0 0 0 0 0 0 3]\n",
      " [0 0 0 0 0 0 0 0 0 0]]\n",
      "\n",
      "Actions:  ['Down' 'Right']\n",
      "\n",
      " T = 3 \n",
      "\n",
      "[[1 1 1 1 1 1 1 1 1 1]\n",
      " [1 1 1 2 2 2 2 1 1 1]\n",
      " [0 0 0 0 0 0 0 0 0 0]\n",
      " [0 0 0 0 0 0 0 0 0 0]\n",
      " [0 0 0 0 0 0 0 0 0 0]\n",
      " [0 0 0 0 0 0 0 3 0 0]\n",
      " [0 0 0 0 0 0 0 0 0 0]\n",
      " [0 0 0 0 0 0 0 0 0 0]\n",
      " [0 0 0 0 0 0 0 0 0 3]\n",
      " [0 0 0 0 0 0 0 0 0 0]]\n",
      "\n",
      "Actions:  ['Right' 'Right']\n",
      "\n",
      " T = 4 \n",
      "\n",
      "[[1 1 1 1 1 1 1 1 1 1]\n",
      " [1 1 1 2 2 2 2 1 1 1]\n",
      " [0 0 0 0 0 0 0 0 0 0]\n",
      " [0 0 0 0 0 0 0 0 0 0]\n",
      " [0 0 0 0 0 0 0 0 0 0]\n",
      " [0 0 0 0 0 0 0 0 3 0]\n",
      " [0 0 0 0 0 0 0 0 0 0]\n",
      " [0 0 0 0 0 0 0 0 0 0]\n",
      " [0 0 0 0 0 0 0 0 0 3]\n",
      " [0 0 0 0 0 0 0 0 0 0]]\n",
      "\n",
      "Actions:  ['Eat Fish' 'Right']\n"
     ]
    }
   ],
   "source": [
    "env.reset()\n",
    "for t in range(5):\n",
    "    print('\\n T =', t, '\\n')\n",
    "    print(env.state[:env.grid_area].reshape(env.grid_size, env.grid_size))\n",
    "    actions = np.random.randint(0, 5, env.num_agents)\n",
    "    print('\\nActions: ', action_dict[actions])\n",
    "    env.step(actions)"
   ]
  },
  {
   "cell_type": "code",
   "execution_count": null,
   "metadata": {
    "collapsed": true
   },
   "outputs": [],
   "source": []
  },
  {
   "cell_type": "code",
   "execution_count": null,
   "metadata": {
    "collapsed": true
   },
   "outputs": [],
   "source": []
  },
  {
   "cell_type": "code",
   "execution_count": null,
   "metadata": {
    "collapsed": true
   },
   "outputs": [],
   "source": []
  }
 ],
 "metadata": {
  "kernelspec": {
   "display_name": "Python 3",
   "language": "python",
   "name": "python3"
  },
  "language_info": {
   "codemirror_mode": {
    "name": "ipython",
    "version": 3
   },
   "file_extension": ".py",
   "mimetype": "text/x-python",
   "name": "python",
   "nbconvert_exporter": "python",
   "pygments_lexer": "ipython3",
   "version": "3.6.1"
  }
 },
 "nbformat": 4,
 "nbformat_minor": 2
}
