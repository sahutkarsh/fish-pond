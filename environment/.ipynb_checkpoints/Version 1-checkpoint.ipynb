{
 "cells": [
  {
   "cell_type": "code",
   "execution_count": 8,
   "metadata": {
    "collapsed": true
   },
   "outputs": [],
   "source": [
    "import numpy as np"
   ]
  },
  {
   "cell_type": "code",
   "execution_count": 9,
   "metadata": {
    "collapsed": true
   },
   "outputs": [],
   "source": [
    "import gym\n",
    "from gym import spaces, logger"
   ]
  },
  {
   "cell_type": "code",
   "execution_count": 10,
   "metadata": {
    "collapsed": true
   },
   "outputs": [],
   "source": [
    "logger.set_level(40)"
   ]
  },
  {
   "cell_type": "markdown",
   "metadata": {},
   "source": [
    "Agent Actions: <br>\n",
    "\n",
    "0. Move Left\n",
    "1. Move Right\n",
    "2. Move Up\n",
    "3. Move Down\n",
    "4. Eat Fish"
   ]
  },
  {
   "cell_type": "markdown",
   "metadata": {},
   "source": [
    "Environment State:\n",
    "\n",
    "0. Grid (0-Ground, 1-Water, 2-Fishing Area, 3-Agents)\n",
    "1. Fish Population\n",
    "2. Agent Health"
   ]
  },
  {
   "cell_type": "code",
   "execution_count": 11,
   "metadata": {
    "collapsed": true
   },
   "outputs": [],
   "source": [
    "class FishPondEnv(gym.Env):\n",
    "    def __init__(self, params):\n",
    "        super(FishPondEnv, self).__init__()\n",
    "        self.params = params\n",
    "        self.num_agents = params['num_agents']\n",
    "        self.grid_size = params['grid_size']\n",
    "        self.pond_size = np.int(self.grid_size * self.params['pond_size_ratio'])\n",
    "        self.grid_area = self.grid_size * self.grid_size\n",
    "        self.pond_area = self.grid_size * self.pond_size\n",
    "        self.action_space = spaces.Discrete(5)\n",
    "        state_space_low = np.array(self.grid_area * [0] + [0] + self.num_agents * [0])\n",
    "        state_space_high = np.array(self.grid_area * [2] + [params['fish_count_max']] + self.num_agents * [params['health_max']])\n",
    "        self.state_space = spaces.Box(state_space_low, state_space_high, dtype=np.float32) #Check dtype here\n",
    "        self.state = None\n",
    "        self.steps_beyond_done = None\n",
    "    \n",
    "    def get_initial_state(self): #Missing Agent Issue Fixed\n",
    "        grid = np.array(self.pond_area * [1] + (self.grid_area - self.pond_area) * [0])\n",
    "        zone_correction = np.int((self.params['fishing_zone_size'] % 2) != (self.grid_size % 2))\n",
    "        zone_size = self.params['fishing_zone_size'] + zone_correction\n",
    "        zone_index = np.int((self.pond_size - 1) * self.grid_size + (self.grid_size - zone_size) / 2)\n",
    "        grid[range(zone_index, zone_index + zone_size)] = 2\n",
    "        agent_location = np.random.choice(range(self.pond_area, self.grid_area), self.num_agents)\n",
    "        grid[agent_location] = 3\n",
    "        fish_count = [self.params['fish_count_initial']]\n",
    "        agent_health = self.num_agents * [self.params['health_max']]\n",
    "        state = np.append(grid, [fish_count + agent_health])\n",
    "        return state\n",
    "        \n",
    "    def reset(self):\n",
    "        self.state = self.get_initial_state()\n",
    "        self.steps_beyond_done = None\n",
    "        return self.state\n",
    "    \n",
    "    def step_agent(self, action, agent_index):\n",
    "        \n",
    "        return [state, reward]\n",
    "        \n",
    "    def step(self, actions): #Discuss about synchronization in real time before each takes action\n",
    "        for agent_index in range(self.num_agents):\n",
    "            step_agent()\n",
    "        return 0"
   ]
  },
  {
   "cell_type": "code",
   "execution_count": 16,
   "metadata": {
    "collapsed": true
   },
   "outputs": [],
   "source": [
    "params = {\n",
    "    'num_agents': 3,\n",
    "    'health_max': 100,\n",
    "    'grid_size': 10,\n",
    "    'pond_size_ratio': 0.25,\n",
    "    'fishing_zone_size': 4, #Auto-Symmetry\n",
    "    'fish_count_initial': 10,\n",
    "    'fish_count_max': 50,\n",
    "    'hunger_per_step': -5,\n",
    "    'nutrition_per_fish': 10\n",
    "}"
   ]
  },
  {
   "cell_type": "code",
   "execution_count": 17,
   "metadata": {
    "collapsed": false
   },
   "outputs": [],
   "source": [
    "env = FishPondEnv(params)"
   ]
  },
  {
   "cell_type": "code",
   "execution_count": 18,
   "metadata": {
    "collapsed": false
   },
   "outputs": [
    {
     "data": {
      "text/plain": [
       "array([[1, 1, 1, 1, 1, 1, 1, 1, 1, 1],\n",
       "       [1, 1, 1, 2, 2, 2, 2, 1, 1, 1],\n",
       "       [0, 0, 0, 0, 0, 0, 0, 0, 0, 0],\n",
       "       [0, 0, 0, 0, 0, 0, 0, 0, 0, 0],\n",
       "       [0, 0, 0, 0, 0, 0, 0, 0, 0, 0],\n",
       "       [0, 0, 3, 0, 0, 0, 0, 0, 0, 0],\n",
       "       [0, 0, 3, 0, 0, 0, 0, 0, 0, 0],\n",
       "       [0, 0, 0, 0, 0, 0, 0, 0, 3, 0],\n",
       "       [0, 0, 0, 0, 0, 0, 0, 0, 0, 0],\n",
       "       [0, 0, 0, 0, 0, 0, 0, 0, 0, 0]])"
      ]
     },
     "execution_count": 18,
     "metadata": {},
     "output_type": "execute_result"
    }
   ],
   "source": [
    "grid_size = params['grid_size']\n",
    "grid_area = pow(grid_size, 2)\n",
    "grid = env.reset()[:grid_area].reshape(grid_size, grid_size)\n",
    "grid"
   ]
  },
  {
   "cell_type": "code",
   "execution_count": 19,
   "metadata": {
    "collapsed": false
   },
   "outputs": [
    {
     "data": {
      "text/plain": [
       "array([  1,   1,   1,   1,   1,   1,   1,   1,   1,   1,   1,   1,   1,\n",
       "         2,   2,   2,   2,   1,   1,   1,   0,   0,   3,   0,   0,   0,\n",
       "         0,   0,   0,   0,   0,   0,   0,   0,   3,   0,   0,   0,   0,\n",
       "         0,   0,   0,   0,   0,   0,   3,   0,   0,   0,   0,   0,   0,\n",
       "         0,   0,   0,   0,   0,   0,   0,   0,   0,   0,   0,   0,   0,\n",
       "         0,   0,   0,   0,   0,   0,   0,   0,   0,   0,   0,   0,   0,\n",
       "         0,   0,   0,   0,   0,   0,   0,   0,   0,   0,   0,   0,   0,\n",
       "         0,   0,   0,   0,   0,   0,   0,   0,   0,  10, 100, 100, 100])"
      ]
     },
     "execution_count": 19,
     "metadata": {},
     "output_type": "execute_result"
    }
   ],
   "source": [
    "env.reset()"
   ]
  },
  {
   "cell_type": "code",
   "execution_count": null,
   "metadata": {
    "collapsed": true
   },
   "outputs": [],
   "source": []
  }
 ],
 "metadata": {
  "kernelspec": {
   "display_name": "Python 3",
   "language": "python",
   "name": "python3"
  },
  "language_info": {
   "codemirror_mode": {
    "name": "ipython",
    "version": 3
   },
   "file_extension": ".py",
   "mimetype": "text/x-python",
   "name": "python",
   "nbconvert_exporter": "python",
   "pygments_lexer": "ipython3",
   "version": "3.6.1"
  }
 },
 "nbformat": 4,
 "nbformat_minor": 2
}
