{
 "cells": [
  {
   "cell_type": "code",
   "execution_count": 49,
   "metadata": {
    "collapsed": false
   },
   "outputs": [],
   "source": [
    "lines = ['1 22698U 93041A   08176.51164820  .00000248  00000-', '2 22698 089.5192 046.4765 0091800 046.2114 314.6604', '1 22698U 93041A   08176.93361871 +.00000248 +00000121',  '2 22698 089.5191 046.4531 0091744 044.8831 315.9716', '1 22698U 93041A   08177.84788861  .00000094  00000-', '2 22698 089.5188 046.4030 0091715 041.9519 318.8655']"
   ]
  },
  {
   "cell_type": "code",
   "execution_count": 50,
   "metadata": {
    "collapsed": false
   },
   "outputs": [],
   "source": [
    "import numpy as np\n",
    "lines = np.array(lines, dtype='str')\n",
    "lines = lines.reshape(-1, 2)"
   ]
  },
  {
   "cell_type": "code",
   "execution_count": 51,
   "metadata": {
    "collapsed": true
   },
   "outputs": [],
   "source": [
    "sublist_1, sublist_2, sublist_3 = lines"
   ]
  },
  {
   "cell_type": "code",
   "execution_count": 55,
   "metadata": {
    "collapsed": false
   },
   "outputs": [
    {
     "data": {
      "text/plain": [
       "['1 22698U 93041A   08176.51164820  .00000248  00000-',\n",
       " '2 22698 089.5192 046.4765 0091800 046.2114 314.6604']"
      ]
     },
     "execution_count": 55,
     "metadata": {},
     "output_type": "execute_result"
    }
   ],
   "source": [
    "list(sublist_1)"
   ]
  },
  {
   "cell_type": "code",
   "execution_count": 53,
   "metadata": {
    "collapsed": false
   },
   "outputs": [
    {
     "data": {
      "text/plain": [
       "array(['1 22698U 93041A   08176.93361871 +.00000248 +00000121',\n",
       "       '2 22698 089.5191 046.4531 0091744 044.8831 315.9716'],\n",
       "      dtype='<U53')"
      ]
     },
     "execution_count": 53,
     "metadata": {},
     "output_type": "execute_result"
    }
   ],
   "source": [
    "sublist_2"
   ]
  },
  {
   "cell_type": "code",
   "execution_count": 54,
   "metadata": {
    "collapsed": false
   },
   "outputs": [
    {
     "data": {
      "text/plain": [
       "array(['1 22698U 93041A   08177.84788861  .00000094  00000-',\n",
       "       '2 22698 089.5188 046.4030 0091715 041.9519 318.8655'],\n",
       "      dtype='<U53')"
      ]
     },
     "execution_count": 54,
     "metadata": {},
     "output_type": "execute_result"
    }
   ],
   "source": [
    "sublist_3"
   ]
  },
  {
   "cell_type": "code",
   "execution_count": null,
   "metadata": {
    "collapsed": true
   },
   "outputs": [],
   "source": []
  }
 ],
 "metadata": {
  "kernelspec": {
   "display_name": "Python 3",
   "language": "python",
   "name": "python3"
  },
  "language_info": {
   "codemirror_mode": {
    "name": "ipython",
    "version": 3
   },
   "file_extension": ".py",
   "mimetype": "text/x-python",
   "name": "python",
   "nbconvert_exporter": "python",
   "pygments_lexer": "ipython3",
   "version": "3.6.1"
  }
 },
 "nbformat": 4,
 "nbformat_minor": 2
}
