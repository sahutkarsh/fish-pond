{
 "cells": [
  {
   "cell_type": "markdown",
   "metadata": {},
   "source": [
    "# Environment Setup"
   ]
  },
  {
   "cell_type": "code",
   "execution_count": 1,
   "metadata": {},
   "outputs": [],
   "source": [
    "import numpy as np\n",
    "from gym import logger"
   ]
  },
  {
   "cell_type": "code",
   "execution_count": 2,
   "metadata": {},
   "outputs": [],
   "source": [
    "from fish_pond import FishPondEnv"
   ]
  },
  {
   "cell_type": "code",
   "execution_count": 3,
   "metadata": {},
   "outputs": [],
   "source": [
    "logger.set_level(40)\n",
    "np.random.seed(0)"
   ]
  },
  {
   "cell_type": "code",
   "execution_count": 4,
   "metadata": {},
   "outputs": [],
   "source": [
    "params = {\n",
    "    'num_agents': 1,\n",
    "    'health_max': 100,\n",
    "    'grid_size': 5,\n",
    "    'pond_size_ratio': 0.25,\n",
    "    'fishing_zone_size': 4,\n",
    "    'fish_count_initial': 10,\n",
    "    'fish_count_max': 50,\n",
    "    'fish_regeneration_rate': 0.05,\n",
    "    'hunger_per_step': -5,\n",
    "    'nutrition_per_fish': 10,\n",
    "    'reward_per_step': 1,\n",
    "    'episode_length': 3\n",
    "}"
   ]
  },
  {
   "cell_type": "code",
   "execution_count": 5,
   "metadata": {},
   "outputs": [],
   "source": [
    "env = FishPondEnv(params)\n",
    "env.seed(0)"
   ]
  },
  {
   "cell_type": "markdown",
   "metadata": {},
   "source": [
    "# Agent"
   ]
  },
  {
   "cell_type": "code",
   "execution_count": 6,
   "metadata": {},
   "outputs": [],
   "source": [
    "from tensorflow.keras.models import Sequential\n",
    "from tensorflow.keras.layers import Dense, Activation, Flatten\n",
    "from tensorflow.keras.optimizers import Adam"
   ]
  },
  {
   "cell_type": "code",
   "execution_count": 7,
   "metadata": {},
   "outputs": [],
   "source": [
    "from rl.agents.dqn import DQNAgent\n",
    "from rl.policy import BoltzmannQPolicy\n",
    "from rl.memory import SequentialMemory"
   ]
  },
  {
   "cell_type": "code",
   "execution_count": 8,
   "metadata": {},
   "outputs": [],
   "source": [
    "nb_actions = env.action_space.n"
   ]
  },
  {
   "cell_type": "code",
   "execution_count": 9,
   "metadata": {},
   "outputs": [
    {
     "name": "stdout",
     "output_type": "stream",
     "text": [
      "WARNING:tensorflow:From C:\\Anaconda3\\lib\\site-packages\\tensorflow\\python\\ops\\resource_variable_ops.py:1666: calling BaseResourceVariable.__init__ (from tensorflow.python.ops.resource_variable_ops) with constraint is deprecated and will be removed in a future version.\n",
      "Instructions for updating:\n",
      "If using Keras pass *_constraint arguments to layers.\n"
     ]
    }
   ],
   "source": [
    "model = Sequential()\n",
    "model.add(Flatten(input_shape=(1,) + env.state_space.shape))\n",
    "model.add(Dense(16,  activation='relu'))\n",
    "model.add(Dense(5,  activation='relu'))\n",
    "model.add(Dense(5,  activation='linear'))"
   ]
  },
  {
   "cell_type": "code",
   "execution_count": 10,
   "metadata": {},
   "outputs": [
    {
     "name": "stdout",
     "output_type": "stream",
     "text": [
      "Model: \"sequential\"\n",
      "_________________________________________________________________\n",
      "Layer (type)                 Output Shape              Param #   \n",
      "=================================================================\n",
      "flatten (Flatten)            (None, 27)                0         \n",
      "_________________________________________________________________\n",
      "dense (Dense)                (None, 16)                448       \n",
      "_________________________________________________________________\n",
      "dense_1 (Dense)              (None, 5)                 85        \n",
      "_________________________________________________________________\n",
      "dense_2 (Dense)              (None, 5)                 30        \n",
      "=================================================================\n",
      "Total params: 563\n",
      "Trainable params: 563\n",
      "Non-trainable params: 0\n",
      "_________________________________________________________________\n"
     ]
    }
   ],
   "source": [
    "model.summary()"
   ]
  },
  {
   "cell_type": "code",
   "execution_count": 11,
   "metadata": {},
   "outputs": [],
   "source": [
    "memory = SequentialMemory(limit=500, window_length=1)"
   ]
  },
  {
   "cell_type": "code",
   "execution_count": 12,
   "metadata": {},
   "outputs": [],
   "source": [
    "policy = BoltzmannQPolicy()"
   ]
  },
  {
   "cell_type": "code",
   "execution_count": 13,
   "metadata": {},
   "outputs": [],
   "source": [
    "dqn = DQNAgent(model=model, nb_actions=nb_actions, memory=memory, nb_steps_warmup=100, target_model_update=1e-2, policy=policy)"
   ]
  },
  {
   "cell_type": "code",
   "execution_count": 14,
   "metadata": {},
   "outputs": [],
   "source": [
    "dqn.compile(Adam(lr=1e-3), metrics=['mae'])"
   ]
  },
  {
   "cell_type": "markdown",
   "metadata": {},
   "source": [
    "# Train"
   ]
  },
  {
   "cell_type": "code",
   "execution_count": 17,
   "metadata": {
    "scrolled": false
   },
   "outputs": [
    {
     "name": "stdout",
     "output_type": "stream",
     "text": [
      "Training for 5 steps ...\n",
      "old fish count -  10.0\n",
      "new fish count -  10.5 11.025\n",
      "False\n",
      "old fish count -  10.5\n",
      "new fish count -  11.025 11.57625\n",
      "False\n",
      "old fish count -  11.025\n",
      "new fish count -  11.57625 12.1550625\n",
      "False\n",
      "old fish count -  11.57625\n",
      "new fish count -  12.1550625 12.762815625\n",
      "True\n",
      " 4/5: episode: 1, duration: 0.009s, episode steps:   4, steps per second: 450, episode reward:  4.000, mean reward:  1.000 [ 1.000,  1.000], mean action: 0.000 [0.000, 0.000],  loss: --, mae: --, mean_q: --\n",
      "old fish count -  10.0\n",
      "new fish count -  10.5 11.025\n",
      "False\n",
      "done, took 0.012 seconds\n"
     ]
    }
   ],
   "source": [
    "dqn.fit(env, nb_steps=5, verbose=2)\n",
    "dqn.save_weights('dqn_{}_weights.h5f'.format('FishPond'), overwrite=True)"
   ]
  },
  {
   "cell_type": "code",
   "execution_count": 18,
   "metadata": {},
   "outputs": [
    {
     "name": "stdout",
     "output_type": "stream",
     "text": [
      "Testing for 5 episodes ...\n",
      "old fish count -  10.0\n",
      "new fish count -  10.5 11.025\n",
      "False\n",
      "Hello\n",
      "old fish count -  10.5\n",
      "new fish count -  11.025 11.57625\n",
      "False\n",
      "Hello\n",
      "old fish count -  11.025\n",
      "new fish count -  11.57625 12.1550625\n",
      "False\n",
      "Hello\n",
      "old fish count -  11.57625\n",
      "new fish count -  12.1550625 12.762815625\n",
      "True\n",
      "Hello\n",
      "Episode 1: reward: 4.000, steps: 4\n",
      "old fish count -  10.0\n",
      "new fish count -  10.5 11.025\n",
      "False\n",
      "Hello\n",
      "old fish count -  10.5\n",
      "new fish count -  11.025 11.57625\n",
      "False\n",
      "Hello\n",
      "old fish count -  11.025\n",
      "new fish count -  11.57625 12.1550625\n",
      "False\n",
      "Hello\n",
      "old fish count -  11.57625\n",
      "new fish count -  12.1550625 12.762815625\n",
      "True\n",
      "Hello\n",
      "Episode 2: reward: 4.000, steps: 4\n",
      "old fish count -  9\n",
      "new fish count -  9.45 9.9225\n",
      "False\n",
      "Hello\n",
      "old fish count -  8\n",
      "new fish count -  8.4 8.82\n",
      "False\n",
      "Hello\n",
      "old fish count -  7\n",
      "new fish count -  7.35 7.717499999999999\n",
      "False\n",
      "Hello\n",
      "old fish count -  6\n",
      "new fish count -  6.3 6.615\n",
      "True\n",
      "Hello\n",
      "Episode 3: reward: 4.000, steps: 4\n",
      "old fish count -  10.0\n",
      "new fish count -  10.5 11.025\n",
      "False\n",
      "Hello\n",
      "old fish count -  10.5\n",
      "new fish count -  11.025 11.57625\n",
      "False\n",
      "Hello\n",
      "old fish count -  11.025\n",
      "new fish count -  11.57625 12.1550625\n",
      "False\n",
      "Hello\n",
      "old fish count -  11.57625\n",
      "new fish count -  12.1550625 12.762815625\n",
      "True\n",
      "Hello\n",
      "Episode 4: reward: 4.000, steps: 4\n",
      "old fish count -  9\n",
      "new fish count -  9.45 9.9225\n",
      "False\n",
      "Hello\n",
      "old fish count -  8\n",
      "new fish count -  8.4 8.82\n",
      "False\n",
      "Hello\n",
      "old fish count -  7\n",
      "new fish count -  7.35 7.717499999999999\n",
      "False\n",
      "Hello\n",
      "old fish count -  6\n",
      "new fish count -  6.3 6.615\n",
      "True\n",
      "Hello\n",
      "Episode 5: reward: 4.000, steps: 4\n"
     ]
    },
    {
     "data": {
      "text/plain": [
       "<tensorflow.python.keras.callbacks.History at 0x97f17ca688>"
      ]
     },
     "execution_count": 18,
     "metadata": {},
     "output_type": "execute_result"
    }
   ],
   "source": [
    "dqn.test(env, nb_episodes=5, visualize=True)"
   ]
  },
  {
   "cell_type": "code",
   "execution_count": null,
   "metadata": {},
   "outputs": [],
   "source": []
  }
 ],
 "metadata": {
  "kernelspec": {
   "display_name": "Python 3",
   "language": "python",
   "name": "python3"
  },
  "language_info": {
   "codemirror_mode": {
    "name": "ipython",
    "version": 3
   },
   "file_extension": ".py",
   "mimetype": "text/x-python",
   "name": "python",
   "nbconvert_exporter": "python",
   "pygments_lexer": "ipython3",
   "version": "3.7.6"
  }
 },
 "nbformat": 4,
 "nbformat_minor": 4
}
