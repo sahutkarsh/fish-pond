{
 "cells": [
  {
   "cell_type": "markdown",
   "metadata": {},
   "source": [
    "# Environment Setup"
   ]
  },
  {
   "cell_type": "code",
   "execution_count": 1,
   "metadata": {},
   "outputs": [],
   "source": [
    "import numpy as np\n",
    "from gym import logger"
   ]
  },
  {
   "cell_type": "code",
   "execution_count": 2,
   "metadata": {},
   "outputs": [],
   "source": [
    "from fish_pond import FishPondEnv"
   ]
  },
  {
   "cell_type": "code",
   "execution_count": 3,
   "metadata": {},
   "outputs": [],
   "source": [
    "logger.set_level(40)\n",
    "np.random.seed(0)"
   ]
  },
  {
   "cell_type": "code",
   "execution_count": 4,
   "metadata": {},
   "outputs": [],
   "source": [
    "params = {\n",
    "    'num_agents': 1,\n",
    "    'health_max': 100,\n",
    "    'grid_size': 10,\n",
    "    'pond_size_ratio': 0.25,\n",
    "    'fishing_zone_size': 4,\n",
    "    'fish_count_initial': 10,\n",
    "    'fish_count_max': 50,\n",
    "    'fish_regeneration_rate': 0.05,\n",
    "    'hunger_per_step': -5,\n",
    "    'nutrition_per_fish': 10,\n",
    "    'reward_per_step': 1,\n",
    "    'episode_length': 3\n",
    "}"
   ]
  },
  {
   "cell_type": "code",
   "execution_count": 5,
   "metadata": {},
   "outputs": [],
   "source": [
    "env = FishPondEnv(params)\n",
    "env.seed(0)"
   ]
  },
  {
   "cell_type": "markdown",
   "metadata": {},
   "source": [
    "# Agent"
   ]
  },
  {
   "cell_type": "code",
   "execution_count": 6,
   "metadata": {},
   "outputs": [],
   "source": [
    "from tensorflow.keras.models import Sequential\n",
    "from tensorflow.keras.layers import Dense, Activation, Flatten\n",
    "from tensorflow.keras.optimizers import Adam"
   ]
  },
  {
   "cell_type": "code",
   "execution_count": 7,
   "metadata": {},
   "outputs": [],
   "source": [
    "from rl.agents.dqn import DQNAgent\n",
    "from rl.policy import BoltzmannQPolicy\n",
    "from rl.memory import SequentialMemory"
   ]
  },
  {
   "cell_type": "code",
   "execution_count": 8,
   "metadata": {},
   "outputs": [],
   "source": [
    "nb_actions = env.action_space.n"
   ]
  },
  {
   "cell_type": "code",
   "execution_count": 9,
   "metadata": {},
   "outputs": [
    {
     "name": "stdout",
     "output_type": "stream",
     "text": [
      "WARNING:tensorflow:From C:\\Anaconda3\\lib\\site-packages\\tensorflow\\python\\ops\\resource_variable_ops.py:1666: calling BaseResourceVariable.__init__ (from tensorflow.python.ops.resource_variable_ops) with constraint is deprecated and will be removed in a future version.\n",
      "Instructions for updating:\n",
      "If using Keras pass *_constraint arguments to layers.\n"
     ]
    }
   ],
   "source": [
    "model = Sequential()\n",
    "model.add(Flatten(input_shape=(1,) + env.state_space.shape))\n",
    "model.add(Dense(16,  activation='relu'))\n",
    "model.add(Dense(5,  activation='relu'))\n",
    "model.add(Dense(5,  activation='linear'))"
   ]
  },
  {
   "cell_type": "code",
   "execution_count": 10,
   "metadata": {},
   "outputs": [
    {
     "name": "stdout",
     "output_type": "stream",
     "text": [
      "Model: \"sequential\"\n",
      "_________________________________________________________________\n",
      "Layer (type)                 Output Shape              Param #   \n",
      "=================================================================\n",
      "flatten (Flatten)            (None, 102)               0         \n",
      "_________________________________________________________________\n",
      "dense (Dense)                (None, 16)                1648      \n",
      "_________________________________________________________________\n",
      "dense_1 (Dense)              (None, 5)                 85        \n",
      "_________________________________________________________________\n",
      "dense_2 (Dense)              (None, 5)                 30        \n",
      "=================================================================\n",
      "Total params: 1,763\n",
      "Trainable params: 1,763\n",
      "Non-trainable params: 0\n",
      "_________________________________________________________________\n"
     ]
    }
   ],
   "source": [
    "model.summary()"
   ]
  },
  {
   "cell_type": "code",
   "execution_count": 11,
   "metadata": {},
   "outputs": [],
   "source": [
    "memory = SequentialMemory(limit=500, window_length=1)"
   ]
  },
  {
   "cell_type": "code",
   "execution_count": 12,
   "metadata": {},
   "outputs": [],
   "source": [
    "policy = BoltzmannQPolicy()"
   ]
  },
  {
   "cell_type": "code",
   "execution_count": 13,
   "metadata": {},
   "outputs": [],
   "source": [
    "dqn = DQNAgent(model=model, nb_actions=nb_actions, memory=memory, nb_steps_warmup=100, target_model_update=1e-2, policy=policy)"
   ]
  },
  {
   "cell_type": "code",
   "execution_count": 14,
   "metadata": {},
   "outputs": [],
   "source": [
    "dqn.compile(Adam(lr=1e-3), metrics=['mae'])"
   ]
  },
  {
   "cell_type": "markdown",
   "metadata": {},
   "source": [
    "# Train"
   ]
  },
  {
   "cell_type": "markdown",
   "metadata": {},
   "source": [
    "Add: Add Imitation Mode for partial training"
   ]
  },
  {
   "cell_type": "code",
   "execution_count": 15,
   "metadata": {
    "scrolled": true
   },
   "outputs": [
    {
     "name": "stdout",
     "output_type": "stream",
     "text": [
      "Training for 100 steps ...\n",
      "  4/100: episode: 1, duration: 0.050s, episode steps:   4, steps per second:  80, episode reward:  4.000, mean reward:  1.000 [ 1.000,  1.000], mean action: 4.000 [4.000, 4.000],  loss: --, mae: --, mean_q: --\n",
      "  8/100: episode: 2, duration: 0.005s, episode steps:   4, steps per second: 786, episode reward:  4.000, mean reward:  1.000 [ 1.000,  1.000], mean action: 4.000 [4.000, 4.000],  loss: --, mae: --, mean_q: --\n",
      " 12/100: episode: 3, duration: 0.005s, episode steps:   4, steps per second: 867, episode reward:  4.000, mean reward:  1.000 [ 1.000,  1.000], mean action: 4.000 [4.000, 4.000],  loss: --, mae: --, mean_q: --\n",
      " 16/100: episode: 4, duration: 0.005s, episode steps:   4, steps per second: 865, episode reward:  4.000, mean reward:  1.000 [ 1.000,  1.000], mean action: 4.000 [4.000, 4.000],  loss: --, mae: --, mean_q: --\n",
      " 20/100: episode: 5, duration: 0.005s, episode steps:   4, steps per second: 851, episode reward:  4.000, mean reward:  1.000 [ 1.000,  1.000], mean action: 4.000 [4.000, 4.000],  loss: --, mae: --, mean_q: --\n",
      " 24/100: episode: 6, duration: 0.005s, episode steps:   4, steps per second: 884, episode reward:  4.000, mean reward:  1.000 [ 1.000,  1.000], mean action: 4.000 [4.000, 4.000],  loss: --, mae: --, mean_q: --\n",
      " 28/100: episode: 7, duration: 0.005s, episode steps:   4, steps per second: 872, episode reward:  4.000, mean reward:  1.000 [ 1.000,  1.000], mean action: 4.000 [4.000, 4.000],  loss: --, mae: --, mean_q: --\n",
      " 32/100: episode: 8, duration: 0.005s, episode steps:   4, steps per second: 876, episode reward:  4.000, mean reward:  1.000 [ 1.000,  1.000], mean action: 4.000 [4.000, 4.000],  loss: --, mae: --, mean_q: --\n",
      " 36/100: episode: 9, duration: 0.005s, episode steps:   4, steps per second: 752, episode reward:  4.000, mean reward:  1.000 [ 1.000,  1.000], mean action: 4.000 [4.000, 4.000],  loss: --, mae: --, mean_q: --\n",
      " 40/100: episode: 10, duration: 0.005s, episode steps:   4, steps per second: 865, episode reward:  4.000, mean reward:  1.000 [ 1.000,  1.000], mean action: 4.000 [4.000, 4.000],  loss: --, mae: --, mean_q: --\n",
      " 44/100: episode: 11, duration: 0.004s, episode steps:   4, steps per second: 895, episode reward:  4.000, mean reward:  1.000 [ 1.000,  1.000], mean action: 4.000 [4.000, 4.000],  loss: --, mae: --, mean_q: --\n",
      " 48/100: episode: 12, duration: 0.004s, episode steps:   4, steps per second: 915, episode reward:  4.000, mean reward:  1.000 [ 1.000,  1.000], mean action: 4.000 [4.000, 4.000],  loss: --, mae: --, mean_q: --\n",
      " 52/100: episode: 13, duration: 0.004s, episode steps:   4, steps per second: 904, episode reward:  4.000, mean reward:  1.000 [ 1.000,  1.000], mean action: 4.000 [4.000, 4.000],  loss: --, mae: --, mean_q: --\n",
      " 56/100: episode: 14, duration: 0.004s, episode steps:   4, steps per second: 936, episode reward:  4.000, mean reward:  1.000 [ 1.000,  1.000], mean action: 4.000 [4.000, 4.000],  loss: --, mae: --, mean_q: --\n",
      " 60/100: episode: 15, duration: 0.004s, episode steps:   4, steps per second: 926, episode reward:  4.000, mean reward:  1.000 [ 1.000,  1.000], mean action: 4.000 [4.000, 4.000],  loss: --, mae: --, mean_q: --\n",
      " 64/100: episode: 16, duration: 0.005s, episode steps:   4, steps per second: 865, episode reward:  4.000, mean reward:  1.000 [ 1.000,  1.000], mean action: 4.000 [4.000, 4.000],  loss: --, mae: --, mean_q: --\n",
      " 68/100: episode: 17, duration: 0.005s, episode steps:   4, steps per second: 885, episode reward:  4.000, mean reward:  1.000 [ 1.000,  1.000], mean action: 4.000 [4.000, 4.000],  loss: --, mae: --, mean_q: --\n",
      " 72/100: episode: 18, duration: 0.005s, episode steps:   4, steps per second: 872, episode reward:  4.000, mean reward:  1.000 [ 1.000,  1.000], mean action: 4.000 [4.000, 4.000],  loss: --, mae: --, mean_q: --\n",
      " 76/100: episode: 19, duration: 0.005s, episode steps:   4, steps per second: 876, episode reward:  4.000, mean reward:  1.000 [ 1.000,  1.000], mean action: 4.000 [4.000, 4.000],  loss: --, mae: --, mean_q: --\n",
      " 80/100: episode: 20, duration: 0.005s, episode steps:   4, steps per second: 872, episode reward:  4.000, mean reward:  1.000 [ 1.000,  1.000], mean action: 4.000 [4.000, 4.000],  loss: --, mae: --, mean_q: --\n",
      " 84/100: episode: 21, duration: 0.005s, episode steps:   4, steps per second: 883, episode reward:  4.000, mean reward:  1.000 [ 1.000,  1.000], mean action: 4.000 [4.000, 4.000],  loss: --, mae: --, mean_q: --\n",
      " 88/100: episode: 22, duration: 0.005s, episode steps:   4, steps per second: 881, episode reward:  4.000, mean reward:  1.000 [ 1.000,  1.000], mean action: 4.000 [4.000, 4.000],  loss: --, mae: --, mean_q: --\n",
      " 92/100: episode: 23, duration: 0.004s, episode steps:   4, steps per second: 898, episode reward:  4.000, mean reward:  1.000 [ 1.000,  1.000], mean action: 4.000 [4.000, 4.000],  loss: --, mae: --, mean_q: --\n",
      " 96/100: episode: 24, duration: 0.005s, episode steps:   4, steps per second: 872, episode reward:  4.000, mean reward:  1.000 [ 1.000,  1.000], mean action: 4.000 [4.000, 4.000],  loss: --, mae: --, mean_q: --\n",
      " 100/100: episode: 25, duration: 0.005s, episode steps:   4, steps per second: 885, episode reward:  4.000, mean reward:  1.000 [ 1.000,  1.000], mean action: 4.000 [4.000, 4.000],  loss: --, mae: --, mean_q: --\n",
      "done, took 0.173 seconds\n"
     ]
    }
   ],
   "source": [
    "dqn.fit(env, nb_steps=100, verbose=2)\n",
    "dqn.save_weights('dqn_{}_weights.h5f'.format('FishPond'), overwrite=True)"
   ]
  },
  {
   "cell_type": "markdown",
   "metadata": {},
   "source": [
    "# Test and Visualize"
   ]
  },
  {
   "cell_type": "code",
   "execution_count": 16,
   "metadata": {},
   "outputs": [
    {
     "name": "stdout",
     "output_type": "stream",
     "text": [
      "Fish Count: 12.0\n",
      "Fish Count (Running): 12.1550625\n",
      "Agent Health: [100.]\n",
      "\n",
      "\n",
      "1 1 1 1 1 1 1 1 1 1\n",
      "1 1 1 2 2 2 2 1 1 1\n",
      "0 0 0 0 0 0 0 0 0 0\n",
      "0 0 0 0 0 0 0 0 0 0\n",
      "0 0 0 0 0 0 0 0 0 0\n",
      "0 0 0 0 0 0 0 0 0 0\n",
      "0 0 0 0 0 0 0 0 0 0\n",
      "0 0 0 0 0 0 0 0 0 0\n",
      "0 0 0 0 0 3 0 0 0 0\n",
      "0 0 0 0 0 0 0 0 0 0\n",
      "\n",
      "\n",
      "Episode 1: reward: 4.000, steps: 4\n"
     ]
    },
    {
     "data": {
      "text/plain": [
       "<tensorflow.python.keras.callbacks.History at 0x8626d3f608>"
      ]
     },
     "execution_count": 16,
     "metadata": {},
     "output_type": "execute_result"
    }
   ],
   "source": [
    "dqn.test(env, nb_episodes=1, visualize=True)"
   ]
  }
 ],
 "metadata": {
  "kernelspec": {
   "display_name": "Python 3",
   "language": "python",
   "name": "python3"
  },
  "language_info": {
   "codemirror_mode": {
    "name": "ipython",
    "version": 3
   },
   "file_extension": ".py",
   "mimetype": "text/x-python",
   "name": "python",
   "nbconvert_exporter": "python",
   "pygments_lexer": "ipython3",
   "version": "3.7.6"
  }
 },
 "nbformat": 4,
 "nbformat_minor": 4
}
